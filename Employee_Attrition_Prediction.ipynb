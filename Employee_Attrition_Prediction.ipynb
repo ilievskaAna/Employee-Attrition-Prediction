{
  "nbformat": 4,
  "nbformat_minor": 0,
  "metadata": {
    "colab": {
      "provenance": [],
      "authorship_tag": "ABX9TyMvLPUPeGtyKRe8uqAXnW1N",
      "include_colab_link": true
    },
    "kernelspec": {
      "name": "python3",
      "display_name": "Python 3"
    },
    "language_info": {
      "name": "python"
    }
  },
  "cells": [
    {
      "cell_type": "markdown",
      "metadata": {
        "id": "view-in-github",
        "colab_type": "text"
      },
      "source": [
        "<a href=\"https://colab.research.google.com/github/ilievskaAna/Employee-Attrition-Prediction/blob/main/Employee_Attrition_Prediction.ipynb\" target=\"_parent\"><img src=\"https://colab.research.google.com/assets/colab-badge.svg\" alt=\"Open In Colab\"/></a>"
      ]
    },
    {
      "cell_type": "code",
      "source": [
        "import pandas as pd\n",
        "\n",
        "df = pd.read_csv(\"/content/employee_attrition_dataset.csv\")\n",
        "print(df.head())"
      ],
      "metadata": {
        "colab": {
          "base_uri": "https://localhost:8080/"
        },
        "id": "Oo0fMQclwuGE",
        "outputId": "8f0f4f08-c980-465d-e6ff-042acbd9806d"
      },
      "execution_count": 97,
      "outputs": [
        {
          "output_type": "stream",
          "name": "stdout",
          "text": [
            "   Employee_ID  Age  Gender Marital_Status Department   Job_Role  Job_Level  \\\n",
            "0            1   58  Female        Married         IT    Manager          1   \n",
            "1            2   48  Female        Married      Sales  Assistant          5   \n",
            "2            3   34    Male        Married  Marketing  Assistant          1   \n",
            "3            4   27  Female       Divorced  Marketing    Manager          1   \n",
            "4            5   40    Male       Divorced  Marketing  Executive          1   \n",
            "\n",
            "   Monthly_Income  Hourly_Rate  Years_at_Company  ...  Overtime  \\\n",
            "0           15488           28                15  ...        No   \n",
            "1           13079           28                 6  ...       Yes   \n",
            "2           13744           24                24  ...       Yes   \n",
            "3            6809           26                10  ...        No   \n",
            "4           10206           52                29  ...        No   \n",
            "\n",
            "   Project_Count  Average_Hours_Worked_Per_Week  Absenteeism  \\\n",
            "0              6                             54           17   \n",
            "1              2                             45            1   \n",
            "2              6                             34            2   \n",
            "3              9                             48           18   \n",
            "4              3                             33            0   \n",
            "\n",
            "   Work_Environment_Satisfaction  Relationship_with_Manager Job_Involvement  \\\n",
            "0                              4                          4               4   \n",
            "1                              4                          1               2   \n",
            "2                              3                          4               4   \n",
            "3                              2                          3               1   \n",
            "4                              4                          1               3   \n",
            "\n",
            "   Distance_From_Home  Number_of_Companies_Worked  Attrition  \n",
            "0                  20                           3         No  \n",
            "1                  25                           2         No  \n",
            "2                  45                           3         No  \n",
            "3                  35                           3         No  \n",
            "4                  44                           3         No  \n",
            "\n",
            "[5 rows x 26 columns]\n"
          ]
        }
      ]
    },
    {
      "cell_type": "code",
      "source": [
        "df = df.drop(columns=['Employee_ID'])"
      ],
      "metadata": {
        "id": "adObAngZsGEy"
      },
      "execution_count": 98,
      "outputs": []
    },
    {
      "cell_type": "code",
      "source": [
        "from sklearn.preprocessing import LabelEncoder\n",
        "\n",
        "categorical_cols = df.select_dtypes(include=['object']).columns\n",
        "print('Categorical Columns : ', categorical_cols.tolist())\n",
        "\n",
        "for col in categorical_cols: df[col] = LabelEncoder().fit_transform(df[col])"
      ],
      "metadata": {
        "id": "CknIBOcLDP-d",
        "colab": {
          "base_uri": "https://localhost:8080/"
        },
        "outputId": "2d0be28e-0f7d-490c-ef0f-0f3f8e8ba034"
      },
      "execution_count": 99,
      "outputs": [
        {
          "output_type": "stream",
          "name": "stdout",
          "text": [
            "Categorical Columns :  ['Gender', 'Marital_Status', 'Department', 'Job_Role', 'Overtime', 'Attrition']\n"
          ]
        }
      ]
    },
    {
      "cell_type": "code",
      "source": [
        "from sklearn.model_selection import train_test_split\n",
        "from imblearn.over_sampling import SMOTE\n",
        "\n",
        "X = df.drop('Attrition', axis=1)\n",
        "y = df['Attrition']\n",
        "\n",
        "sm = SMOTE(random_state=42)\n",
        "X_train, X_test, y_train, y_test = train_test_split(X, y, test_size=0.25, random_state=42, stratify=y)\n",
        "X_train_res, y_train_res = sm.fit_resample(X_train, y_train)"
      ],
      "metadata": {
        "id": "3uSl6CLBqeFv"
      },
      "execution_count": 100,
      "outputs": []
    },
    {
      "cell_type": "code",
      "source": [
        "from xgboost import XGBClassifier\n",
        "\n",
        "xgb = XGBClassifier(scale_pos_weight=4.32, random_state=42)\n",
        "xgb.fit(X_train_res, y_train_res)\n",
        "y_pred = xgb.predict(X_test)"
      ],
      "metadata": {
        "id": "b2MahDny58vJ"
      },
      "execution_count": 101,
      "outputs": []
    },
    {
      "cell_type": "code",
      "source": [
        "from sklearn.metrics import accuracy_score, classification_report, confusion_matrix\n",
        "\n",
        "y_pred = xgb.predict(X_test)\n",
        "\n",
        "print(\"Accuracy:\", accuracy_score(y_test, y_pred))\n",
        "print(classification_report(y_test, y_pred))\n",
        "print(\"\\nConfusion Matrix:\\n\", confusion_matrix(y_test, y_pred))"
      ],
      "metadata": {
        "colab": {
          "base_uri": "https://localhost:8080/"
        },
        "id": "iIFrSEEI6MvL",
        "outputId": "5139a564-6b90-4d7e-8761-938c51b24613"
      },
      "execution_count": 102,
      "outputs": [
        {
          "output_type": "stream",
          "name": "stdout",
          "text": [
            "Accuracy: 0.7\n",
            "              precision    recall  f1-score   support\n",
            "\n",
            "           0       0.83      0.80      0.81       203\n",
            "           1       0.24      0.28      0.26        47\n",
            "\n",
            "    accuracy                           0.70       250\n",
            "   macro avg       0.53      0.54      0.53       250\n",
            "weighted avg       0.72      0.70      0.71       250\n",
            "\n",
            "\n",
            "Confusion Matrix:\n",
            " [[162  41]\n",
            " [ 34  13]]\n"
          ]
        }
      ]
    }
  ]
}